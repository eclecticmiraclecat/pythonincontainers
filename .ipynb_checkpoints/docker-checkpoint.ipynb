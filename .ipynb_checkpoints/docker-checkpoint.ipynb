{
 "cells": [
  {
   "cell_type": "markdown",
   "metadata": {},
   "source": [
    "## Installation\n",
    "\n",
    "### install docker\n",
    "\n",
    "```\n",
    "$ curl -fsSL https://get.docker.com -o get-docker.sh\n",
    "$ sh get-docker.sh\n",
    "```\n",
    "\n",
    "### add user to docker group\n",
    "```\n",
    "$ sudo usermod -aG docker ubuntu\n",
    "```\n",
    "### install docker machine\n",
    "```\n",
    "$ base=https://github.com/docker/machine/releases/download/v0.16.0 &&   curl -L $base/docker-machine-$(uname -s)-$(uname -m) >/tmp/docker-machine &&   sudo mv /tmp/docker-machine /usr/local/bin/docker-machine &&   chmod +x /usr/local/bin/docker-machine\n",
    "```\n",
    "### install docker compose\n",
    "```\n",
    "$ sudo curl -L \"https://github.com/docker/compose/releases/download/1.25.4/docker-compose-$(uname -s)-$(uname -m)\" -o /usr/local/bin/docker-compose\n",
    "$ sudo chmod +x /usr/local/bin/docker-compose\n",
    "```\n",
    "\n",
    "## working with docker container\n",
    "\n",
    "### download python image from docker hub\n",
    "```\n",
    "$ docker image pull python\n",
    "```\n",
    "\n",
    "### create a container\n",
    "```\n",
    "$ docker container create --tty --interactive python\n",
    "```\n",
    "\n",
    "### list all containers\n",
    "```\n",
    "$ docker container ps --all\n",
    "```\n",
    "\n",
    "### rename a container\n",
    "```\n",
    "$ docker container rename nostalgic_mcclintock mypython\n",
    "```\n",
    "\n",
    "### go inside the container\n",
    "```\n",
    "$ docker container start --interactive mypython\n",
    "```\n",
    "\n",
    "### delete container\n",
    "```\n",
    "$ docker container rm mypython\n",
    "```"
   ]
  },
  {
   "cell_type": "code",
   "execution_count": null,
   "metadata": {},
   "outputs": [],
   "source": []
  }
 ],
 "metadata": {
  "kernelspec": {
   "display_name": "Python 3",
   "language": "python",
   "name": "python3"
  },
  "language_info": {
   "codemirror_mode": {
    "name": "ipython",
    "version": 3
   },
   "file_extension": ".py",
   "mimetype": "text/x-python",
   "name": "python",
   "nbconvert_exporter": "python",
   "pygments_lexer": "ipython3",
   "version": "3.7.7"
  }
 },
 "nbformat": 4,
 "nbformat_minor": 2
}
